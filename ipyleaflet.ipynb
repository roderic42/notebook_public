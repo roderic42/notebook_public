{
 "cells": [
  {
   "cell_type": "code",
   "execution_count": 1,
   "id": "2de4e238-add7-4a70-ab6b-9f1e4b579e86",
   "metadata": {},
   "outputs": [
    {
     "data": {
      "application/vnd.jupyter.widget-view+json": {
       "model_id": "40c5fea13ecc45b2823cc55de9994317",
       "version_major": 2,
       "version_minor": 0
      },
      "text/plain": [
       "Map(center=[48.42, -4.47], controls=(ZoomControl(options=['position', 'zoom_in_text', 'zoom_in_title', 'zoom_o…"
      ]
     },
     "execution_count": 1,
     "metadata": {},
     "output_type": "execute_result"
    }
   ],
   "source": [
    "from ipyleaflet import Map\n",
    "\n",
    "center = (48.42, -4.47)\n",
    "# Création d'une carte centrée sur l'ENSTA Bretagne\n",
    "m = Map(center=center, zoom=16)\n",
    "# Pour afficher la carte, utiliser \"m\" ou \"display(m)\n",
    "m  "
   ]
  },
  {
   "cell_type": "code",
   "execution_count": 2,
   "id": "5750f35c-c45c-41bf-ad2a-ff808ea5cdca",
   "metadata": {},
   "outputs": [
    {
     "data": {
      "application/vnd.jupyter.widget-view+json": {
       "model_id": "7fa6eaa21f224ef885a56aeba7464c60",
       "version_major": 2,
       "version_minor": 0
      },
      "text/plain": [
       "Map(center=[48.418845, -4.472444], controls=(ZoomControl(options=['position', 'zoom_in_text', 'zoom_in_title',…"
      ]
     },
     "metadata": {},
     "output_type": "display_data"
    }
   ],
   "source": [
    "from ipyleaflet import Map, Marker, basemaps, AwesomeIcon\n",
    "\n",
    "center = (48.418845, -4.472444)\n",
    "#  Choix du fond carte\n",
    "m = Map(basemap=basemaps.Esri.WorldImagery, center=center, zoom=18)\n",
    "# Marqueur par défaut, inamovible\n",
    "marker1 = Marker(location=center, draggable=False)\n",
    "# Ajout du marqueur à la carte\n",
    "m.add_layer(marker1)\n",
    "# Icône pour un marqueur personnalisé (voir fontawesome.com)\n",
    "icon = AwesomeIcon(name='gear', marker_color='red', icon_color='darkred', spin=True)\n",
    "# Création d'un marqueur avec l'icône\n",
    "marker2 = Marker(icon=icon, location=(48.418388, -4.47390))\n",
    "m.add_layer(marker2)\n",
    "\n",
    "display(m)"
   ]
  },
  {
   "cell_type": "code",
   "execution_count": 3,
   "id": "ec92d19e-2e2b-4929-93d5-1680e334bda4",
   "metadata": {},
   "outputs": [
    {
     "data": {
      "application/vnd.jupyter.widget-view+json": {
       "model_id": "9a47bd5a9cf846269fe3f6d90b90b032",
       "version_major": 2,
       "version_minor": 0
      },
      "text/plain": [
       "Map(center=[48.418845, -4.472444], controls=(ZoomControl(options=['position', 'zoom_in_text', 'zoom_in_title',…"
      ]
     },
     "metadata": {},
     "output_type": "display_data"
    }
   ],
   "source": [
    "from ipyleaflet import Map, Marker, basemaps, CircleMarker\n",
    "from ipywidgets import HTML\n",
    "\n",
    "# Définition des points d'intérêt\n",
    "sites = {'M108' :   (48.417990, -4.472202),\n",
    "         'FOYZ' :   (48.419830, -4.470475),\n",
    "         'SCHREU' : (48.419667, -4.471343)}\n",
    "\n",
    "center = (48.418845, -4.472444)\n",
    "m = Map(basemap=basemaps.OpenStreetMap.France, center=center, zoom=17)\n",
    "for k in sites.keys():\n",
    "    # Création d'un marqueur cercle sur le point d'intérêt\n",
    "    c = CircleMarker(location=sites[k])\n",
    "    # Message au format HTML pour le popup\n",
    "    message = HTML()\n",
    "    message.value = k\n",
    "    # Association du popup au marqueur\n",
    "    c.popup = message\n",
    "    # Ajout du marqueur sur la carte\n",
    "    m.add_layer(c)\n",
    "display(m)"
   ]
  },
  {
   "cell_type": "code",
   "execution_count": 4,
   "id": "cb928937-1844-40c0-ad0e-81e02f87f9f4",
   "metadata": {},
   "outputs": [
    {
     "data": {
      "application/vnd.jupyter.widget-view+json": {
       "model_id": "64d46047a1a54a1ebbdeb06a64c2abf9",
       "version_major": 2,
       "version_minor": 0
      },
      "text/plain": [
       "Map(center=[np.float64(48.37096911612832), np.float64(-4.504787330319161)], controls=(ZoomControl(options=['po…"
      ]
     },
     "metadata": {},
     "output_type": "display_data"
    }
   ],
   "source": [
    "import pandas\n",
    "from ipyleaflet import Map, basemaps, AntPath\n",
    "\n",
    "# Lecture d'un trajectoire GNSS\n",
    "gnss = pandas.read_csv('GPS_CORRECT_RTK', sep='  +', comment='%', parse_dates=['GPST'], engine='python')\n",
    "# Centrer la carte sur le barycentre des points\n",
    "center = (gnss['latitude(deg)'].mean(), gnss['longitude(deg)'].mean())\n",
    "m = Map(center=center, zoom=14)\n",
    "# Extraction des coordonnées sous forme de liste de [lat, long]\n",
    "traj = gnss[['latitude(deg)', 'longitude(deg)']].to_numpy().tolist()\n",
    "# Création de la trajectoire \"AntPath\"\n",
    "ant_path = AntPath(locations=traj,\n",
    "    # Taille des marques\n",
    "    dash_array=[1, 10],\n",
    "    # Vitesse de défilement\n",
    "    delay=2000,\n",
    "    # Couleur d'arrière-plan\n",
    "    color='#7590ba',\n",
    "    # Couleur des fourmis\n",
    "    pulse_color='#ca3f2f')\n",
    "m.add_layer(ant_path)\n",
    "\n",
    "display(m)"
   ]
  },
  {
   "cell_type": "code",
   "execution_count": 5,
   "id": "6d817f6b-516a-4562-a8ab-c4e758f02328",
   "metadata": {},
   "outputs": [
    {
     "data": {
      "application/vnd.jupyter.widget-view+json": {
       "model_id": "a894e75d36c84def8fd9d45412f6ac63",
       "version_major": 2,
       "version_minor": 0
      },
      "text/plain": [
       "Map(center=[48, -4], controls=(ZoomControl(options=['position', 'zoom_in_text', 'zoom_in_title', 'zoom_out_tex…"
      ]
     },
     "metadata": {},
     "output_type": "display_data"
    }
   ],
   "source": [
    "from ipyleaflet import Map, basemaps\n",
    "import xarray as xr\n",
    "from ipyleaflet.velocity import Velocity\n",
    "\n",
    "# Lecture des données de vent depuis un fichier NetCDF\n",
    "ds = xr.open_dataset('dataset-wavewatch3-global-30min-bestestimate.nc')\n",
    "# Sélection d'une date dans le fichier\n",
    "sel = ds.sel(time='2021-11-27T09:00:00.000000000')\n",
    "# Centrer la carte sur Brest\n",
    "center = (48,-4)\n",
    "m = Map(basemap=basemaps.Esri.WorldImagery, center=center, zoom=5)\n",
    "\n",
    "# Définition de quelques options d'affichage\n",
    "display_options = {\n",
    "    'velocityType': 'Global Wind',\n",
    "    'displayPosition': 'bottomleft',\n",
    "    'displayEmptyString': 'No wind data'\n",
    "  }\n",
    "# Création du champ de vecteurs\n",
    "wind = Velocity(data=sel,\n",
    "                # Vitesse zonale : est\n",
    "                zonal_speed='uwnd',\n",
    "                # Vitesse méridionale : nord\n",
    "                meridional_speed='vwnd',\n",
    "                # Nom des colonnes contenant les coordonnées\n",
    "                latitude_dimension='latitude',\n",
    "                longitude_dimension='longitude',\n",
    "                # Taille des flèches\n",
    "                velocity_scale=0.01,\n",
    "                # Valeur max pour la saturation des couleurs\n",
    "                max_velocity=20,\n",
    "                display_options=display_options)\n",
    "m.add_layer(wind)\n",
    "\n",
    "display(m)"
   ]
  },
  {
   "cell_type": "code",
   "execution_count": 7,
   "id": "fc30a167-2075-40ee-9d6e-107665c4c03e",
   "metadata": {},
   "outputs": [
    {
     "data": {
      "application/vnd.jupyter.widget-view+json": {
       "model_id": "22305965c2bd407ea6609dad087cce97",
       "version_major": 2,
       "version_minor": 0
      },
      "text/plain": [
       "Map(center=[48.42, -4.47], controls=(ZoomControl(options=['position', 'zoom_in_text', 'zoom_in_title', 'zoom_o…"
      ]
     },
     "execution_count": 7,
     "metadata": {},
     "output_type": "execute_result"
    }
   ],
   "source": [
    "from ipyleaflet import Map, basemaps, basemap_to_tiles, WidgetControl, ScaleControl, FullScreenControl, SplitMapControl\n",
    "from ipywidgets import IntSlider, jslink\n",
    "\n",
    "center = (48.42, -4.47)\n",
    "m = Map(center=center)\n",
    "# ---------------------------------------------\n",
    "# Ajout d'une barre de réglage du zoom\n",
    "# ---------------------------------------------\n",
    "# Barre de réglage à valeurs entières entre 0 et 18\n",
    "zoom_slider = IntSlider(description='Zoom level:', min=0, max=18, value=12)\n",
    "# Lien entre la barre et la fonction zoom\n",
    "jslink((zoom_slider, 'value'), (m, 'zoom'))\n",
    "# Création d'un widget avec la barre (haut droite)\n",
    "widget_control1 = WidgetControl(widget=zoom_slider, position='topright')\n",
    "m.add_control(widget_control1)\n",
    "# ---------------------------------------------\n",
    "# Ajout d'une échelle (bas gauche)\n",
    "# ---------------------------------------------\n",
    "m.add_control(ScaleControl(position='bottomleft'))\n",
    "# ---------------------------------------------\n",
    "# Ajout d'un bouton de passage en plein écran (bas droite)\n",
    "# ---------------------------------------------\n",
    "m.add_control(FullScreenControl(position='bottomright'))\n",
    "# ---------------------------------------------\n",
    "# Fenêtre partagée en deux volets\n",
    "# ---------------------------------------------\n",
    "# Volet de droite : carte OSM\n",
    "right_layer = basemap_to_tiles(basemaps.OpenStreetMap.France)\n",
    "# Volet de gauche : image aérienne\n",
    "left_layer = basemap_to_tiles(basemaps.Esri.WorldImagery)\n",
    "# Création du contrôle pour découper la fenêtre\n",
    "control = SplitMapControl(left_layer=left_layer, right_layer=right_layer)\n",
    "m.add_control(control)\n",
    "m"
   ]
  },
  {
   "cell_type": "code",
   "execution_count": null,
   "id": "55878eb8-e976-4f93-a696-da820b094d87",
   "metadata": {},
   "outputs": [],
   "source": []
  }
 ],
 "metadata": {
  "kernelspec": {
   "display_name": "Python 3 (ipykernel)",
   "language": "python",
   "name": "python3"
  },
  "language_info": {
   "codemirror_mode": {
    "name": "ipython",
    "version": 3
   },
   "file_extension": ".py",
   "mimetype": "text/x-python",
   "name": "python",
   "nbconvert_exporter": "python",
   "pygments_lexer": "ipython3",
   "version": "3.13.0"
  }
 },
 "nbformat": 4,
 "nbformat_minor": 5
}
